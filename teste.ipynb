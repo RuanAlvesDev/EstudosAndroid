{
 "cells": [
  {
   "cell_type": "code",
   "execution_count": null,
   "metadata": {
    "collapsed": true
   },
   "outputs": [],
   "source": [
    ""
   ]
  },
  {
   "metadata": {
    "ExecuteTime": {
     "end_time": "2025-10-29T00:59:26.161010400Z",
     "start_time": "2025-10-29T00:59:26.076009200Z"
    }
   },
   "cell_type": "code",
   "source": [
    "fun calcularRendimento(): Double{\n",
    "\n",
    "    val capitalInicial = 1800.0\n",
    "    val taxaJurosMensal = 0.006\n",
    "    return capitalInicial * (1 + taxaJurosMensal);\n",
    "\n",
    "}\n",
    "calcularRendimento ()\n"
   ],
   "outputs": [
    {
     "data": {
      "text/plain": [
       "1810.8"
      ]
     },
     "execution_count": 7,
     "metadata": {},
     "output_type": "execute_result"
    }
   ],
   "execution_count": 7
  }
 ],
 "metadata": {
  "kernelspec": {
   "display_name": "Kotlin",
   "language": "kotlin",
   "name": "kotlin"
  },
  "language_info": {
   "name": "kotlin",
   "version": "1.9.23",
   "mimetype": "text/x-kotlin",
   "file_extension": ".kt",
   "pygments_lexer": "kotlin",
   "codemirror_mode": "text/x-kotlin",
   "nbconvert_exporter": ""
  }
 },
 "nbformat": 4,
 "nbformat_minor": 0
}
