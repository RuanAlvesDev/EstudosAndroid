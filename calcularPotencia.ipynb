{
 "cells": [
  {
   "cell_type": "code",
   "metadata": {
    "collapsed": true
   },
   "source": [
    "fun calcularPotenciaCor(corHex: String): Int{\n",
    "    val vermelho = corHex.substring(0..1)\n",
    "    val verde = corHex.substring(0..3)\n",
    "    val azul = corHex.substring(4)\n",
    "    println(azul)\n",
    "    println(verde)\n",
    "    println(vermelho)\n",
    "    return 0;\n",
    "}\n",
    "\n",
    "calcularPotenciaCor(\"ABCDEF\")"
   ],
   "outputs": [],
   "execution_count": null
  },
  {
   "metadata": {},
   "cell_type": "code",
   "source": [
    "fun calcularPotenciaCor(corHex:String):Int{\n",
    "    val vermelho = corHex.substring(0..1)\n",
    "    val verde = corHex.substring(2..3)\n",
    "    val azul = corHex.substring(4)\n",
    "    val vermelhoConvertido = vermelho.toInt(16)\n",
    "    val verdeConvertido = verde.toInt(16)\n",
    "    val azulConvertido = azul.toInt(16)\n",
    "    println(vermelho)\n",
    "    println(verde)\n",
    "    println(azul)\n",
    "    return verdeConvertido + vermelhoConvertido + azulConvertido;\n",
    "}\n",
    "\n",
    "calcularPotenciaCor(\"AACC44\")"
   ],
   "outputs": [],
   "execution_count": null
  },
  {
   "metadata": {},
   "cell_type": "code",
   "source": [
    "fun calcularConsumoEnergia(velocidadeMetrosPorSegundo: Int, tempoEmSegundos: Int): Double{\n",
    "    val consumoPorMetro = 0.5\n",
    "    val distanciaPercorrida = velocidadeMetrosPorSegundo * tempoEmSegundos\n",
    "    return consumoPorMetro * distanciaPercorrida\n",
    "}\n",
    "\n",
    "calcularConsumoEnergia(8,30)"
   ],
   "outputs": [],
   "execution_count": null
  },
  {
   "metadata": {},
   "cell_type": "code",
   "source": [
    "fun somar(n1: Int, n2: Int): Int {\n",
    "    return n1 + n2\n",
    "}\n",
    "\n",
    "somar(5, 9)"
   ],
   "outputs": [],
   "execution_count": null
  },
  {
   "metadata": {},
   "cell_type": "code",
   "source": [
    "fun saudar(nome:String, hora:Int){\n",
    "    if (hora.toInt() <= 12)\n",
    "        print(\"Bom dia $nome\")\n",
    "    else\n",
    "        print(\"Boa noite $nome\")\n",
    "}\n",
    "\n",
    "saudar(\"anderson\", 12)"
   ],
   "outputs": [],
   "execution_count": null
  },
  {
   "metadata": {},
   "cell_type": "code",
   "source": [
    "fun calcularRendimento(): Double{\n",
    "\n",
    "    val capitalInicial = 1800.0\n",
    "    val taxaJurosMensal = 0.006\n",
    "    return capitalInicial * (1 + taxaJurosMensal);\n",
    "}\n",
    "\n",
    "calcularRendimento ()\n",
    "fun calcularRendimento(): Double{\n",
    "    val capitalInicial = 1800.0\n",
    "    val taxaJurosMensal = 0.006 //0.6%\n",
    "    return capitalInicial * (1 + taxaJurosMensal);\n",
    "}"
   ],
   "outputs": [],
   "execution_count": null
  }
 ],
 "metadata": {
  "kernelspec": {
   "display_name": "Kotlin",
   "language": "kotlin",
   "name": "kotlin"
  },
  "language_info": {
   "name": "kotlin",
   "version": "1.9.23",
   "mimetype": "text/x-kotlin",
   "file_extension": ".kt",
   "pygments_lexer": "kotlin",
   "codemirror_mode": "text/x-kotlin",
   "nbconvert_exporter": ""
  }
 },
 "nbformat": 4,
 "nbformat_minor": 0
}
