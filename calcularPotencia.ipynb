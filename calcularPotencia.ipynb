{
 "cells": [
  {
   "cell_type": "code",
   "metadata": {
    "collapsed": true,
    "ExecuteTime": {
     "end_time": "2025-10-28T23:26:33.315731100Z",
     "start_time": "2025-10-28T23:26:33.146729300Z"
    }
   },
   "source": [
    "fun calcularPotenciaCor(corHex: String): Int{\n",
    "    val vermelho = corHex.substring(0..1)\n",
    "    val verde = corHex.substring(0..3)\n",
    "    val azul = corHex.substring(4)\n",
    "    println(azul)\n",
    "    println(verde)\n",
    "    println(vermelho)\n",
    "    return 0;\n",
    "}\n",
    "\n",
    "calcularPotenciaCor(\"ABCDEF\")"
   ],
   "outputs": [
    {
     "name": "stdout",
     "output_type": "stream",
     "text": [
      "EF\r\n",
      "ABCD\r\n",
      "AB\r\n"
     ]
    },
    {
     "data": {
      "text/plain": [
       "0"
      ]
     },
     "execution_count": 13,
     "metadata": {},
     "output_type": "execute_result"
    }
   ],
   "execution_count": 13
  },
  {
   "metadata": {
    "ExecuteTime": {
     "end_time": "2025-10-28T23:23:07.597035Z",
     "start_time": "2025-10-28T23:23:07.429187700Z"
    }
   },
   "cell_type": "code",
   "source": [
    "fun calcularPotenciaCor(corHex:String):Int{\n",
    "    val vermelho = corHex.substring(0..1)\n",
    "    val verde = corHex.substring(2..3)\n",
    "    val azul = corHex.substring(4)\n",
    "    val vermelhoConvertido = vermelho.toInt(16)\n",
    "    val verdeConvertido = verde.toInt(16)\n",
    "    val azulConvertido = azul.toInt(16)\n",
    "    println(vermelho)\n",
    "    println(verde)\n",
    "    println(azul)\n",
    "    return verdeConvertido + vermelhoConvertido + azulConvertido;\n",
    "}\n",
    "\n",
    "calcularPotenciaCor(\"AACC44\")"
   ],
   "outputs": [
    {
     "name": "stdout",
     "output_type": "stream",
     "text": [
      "AA\r\n",
      "CC\r\n",
      "44\r\n"
     ]
    },
    {
     "data": {
      "text/plain": [
       "442"
      ]
     },
     "execution_count": 12,
     "metadata": {},
     "output_type": "execute_result"
    }
   ],
   "execution_count": 12
  }
 ],
 "metadata": {
  "kernelspec": {
   "display_name": "Kotlin",
   "language": "kotlin",
   "name": "kotlin"
  },
  "language_info": {
   "name": "kotlin",
   "version": "1.9.23",
   "mimetype": "text/x-kotlin",
   "file_extension": ".kt",
   "pygments_lexer": "kotlin",
   "codemirror_mode": "text/x-kotlin",
   "nbconvert_exporter": ""
  }
 },
 "nbformat": 4,
 "nbformat_minor": 0
}
